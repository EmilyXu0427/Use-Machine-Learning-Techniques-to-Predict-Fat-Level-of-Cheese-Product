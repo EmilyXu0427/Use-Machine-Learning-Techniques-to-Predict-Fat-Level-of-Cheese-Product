{
 "cells": [
  {
   "cell_type": "markdown",
   "metadata": {},
   "source": [
    "# Study of using different features to predict cheese fat level"
   ]
  },
  {
   "cell_type": "markdown",
   "metadata": {},
   "source": [
    "## Introduction\n",
    "\n",
    "In this study, we will explore and analyze the cheese dataset from resource of goveronment. This dataset has various categrocial, numerical, binary and string type variables, which we will get into details later in this study. \n",
    "\n",
    "After briefly reviewing the data, I decide to use **FatLevel** as the target and mainly focus on features including **ManufacturerProvCode, ManufacturingTypeEn, CategoryTypeEn, MilkTypeEn, MilkTreatmentTypeEn, MoisturePercent, Organic**. Nowadays, more and more people pay attention to the food nutrients and they start reading nutrition facts table and trying to understand how much sugar, fat or calories they will consume. For many of them, they prefer food with low-calorie or low-fat to lose/control weight and also for the sake of being healthy. Therefore, in this study, I will use **FatLevel** as the target. With all the other features to select, train and optimize model, ideally, I would like to use the model to predict the **FatLevel** when given values of features. Since the **FatLevel** is categorical varibles, it would be a classification problem. Even though I understand that specifying the positive label is important to evaluate the metrics of model. For this study, I would choose not to do so because *higer fat* cheeese is also preferred by a lot of people for the sake of great mouthfeel, texture and flavor. Taking this into consideration, either *lower fat* and *higher fat* can be positive label. We will interpret the data and output accordingly later in this study."
   ]
  },
  {
   "cell_type": "markdown",
   "metadata": {},
   "source": [
    "## Exploratory Data Analysis"
   ]
  },
  {
   "cell_type": "code",
   "execution_count": 1,
   "metadata": {},
   "outputs": [],
   "source": [
    "# Import pandas libary as pd\n",
    "import pandas as pd"
   ]
  },
  {
   "cell_type": "code",
   "execution_count": 2,
   "metadata": {},
   "outputs": [],
   "source": [
    "# Import the data from the folder and save as cheese_data\n",
    "cheese_data = pd.read_csv('data/cheese_data.csv')"
   ]
  },
  {
   "cell_type": "code",
   "execution_count": 3,
   "metadata": {},
   "outputs": [],
   "source": [
    "# import library from sklearn for splitting the data\n",
    "from sklearn.model_selection import train_test_split, cross_validate\n",
    "\n",
    "# Split the dataset into train and test\n",
    "train_df, test_df = train_test_split(cheese_data, test_size = 0.2, random_state = 123)"
   ]
  },
  {
   "cell_type": "code",
   "execution_count": 4,
   "metadata": {},
   "outputs": [
    {
     "data": {
      "text/html": [
       "<div>\n",
       "<style scoped>\n",
       "    .dataframe tbody tr th:only-of-type {\n",
       "        vertical-align: middle;\n",
       "    }\n",
       "\n",
       "    .dataframe tbody tr th {\n",
       "        vertical-align: top;\n",
       "    }\n",
       "\n",
       "    .dataframe thead th {\n",
       "        text-align: right;\n",
       "    }\n",
       "</style>\n",
       "<table border=\"1\" class=\"dataframe\">\n",
       "  <thead>\n",
       "    <tr style=\"text-align: right;\">\n",
       "      <th></th>\n",
       "      <th>CheeseId</th>\n",
       "      <th>ManufacturerProvCode</th>\n",
       "      <th>ManufacturingTypeEn</th>\n",
       "      <th>MoisturePercent</th>\n",
       "      <th>FlavourEn</th>\n",
       "      <th>CharacteristicsEn</th>\n",
       "      <th>Organic</th>\n",
       "      <th>CategoryTypeEn</th>\n",
       "      <th>MilkTypeEn</th>\n",
       "      <th>MilkTreatmentTypeEn</th>\n",
       "      <th>RindTypeEn</th>\n",
       "      <th>CheeseName</th>\n",
       "      <th>FatLevel</th>\n",
       "    </tr>\n",
       "  </thead>\n",
       "  <tbody>\n",
       "    <tr>\n",
       "      <th>482</th>\n",
       "      <td>1506</td>\n",
       "      <td>QC</td>\n",
       "      <td>Artisan</td>\n",
       "      <td>48.0</td>\n",
       "      <td>Sharp, hazelnutty</td>\n",
       "      <td>Pressed, surface-ripened</td>\n",
       "      <td>0</td>\n",
       "      <td>Semi-soft Cheese</td>\n",
       "      <td>Cow</td>\n",
       "      <td>Pasteurized</td>\n",
       "      <td>Washed Rind</td>\n",
       "      <td>Raclette Griffon</td>\n",
       "      <td>lower fat</td>\n",
       "    </tr>\n",
       "    <tr>\n",
       "      <th>896</th>\n",
       "      <td>2055</td>\n",
       "      <td>QC</td>\n",
       "      <td>Artisan</td>\n",
       "      <td>45.0</td>\n",
       "      <td>NaN</td>\n",
       "      <td>NaN</td>\n",
       "      <td>0</td>\n",
       "      <td>Veined Cheeses</td>\n",
       "      <td>Cow</td>\n",
       "      <td>Pasteurized</td>\n",
       "      <td>NaN</td>\n",
       "      <td>Rébellion 1837</td>\n",
       "      <td>higher fat</td>\n",
       "    </tr>\n",
       "    <tr>\n",
       "      <th>421</th>\n",
       "      <td>1445</td>\n",
       "      <td>QC</td>\n",
       "      <td>Industrial</td>\n",
       "      <td>50.0</td>\n",
       "      <td>Mild</td>\n",
       "      <td>NaN</td>\n",
       "      <td>0</td>\n",
       "      <td>Soft Cheese</td>\n",
       "      <td>Cow</td>\n",
       "      <td>Pasteurized</td>\n",
       "      <td>Bloomy Rind</td>\n",
       "      <td>Mini-Brie</td>\n",
       "      <td>lower fat</td>\n",
       "    </tr>\n",
       "    <tr>\n",
       "      <th>929</th>\n",
       "      <td>2141</td>\n",
       "      <td>BC</td>\n",
       "      <td>Artisan</td>\n",
       "      <td>40.0</td>\n",
       "      <td>NaN</td>\n",
       "      <td>NaN</td>\n",
       "      <td>0</td>\n",
       "      <td>Semi-soft Cheese</td>\n",
       "      <td>Cow</td>\n",
       "      <td>Pasteurized</td>\n",
       "      <td>No Rind</td>\n",
       "      <td>Aged Farmhouse</td>\n",
       "      <td>higher fat</td>\n",
       "    </tr>\n",
       "    <tr>\n",
       "      <th>737</th>\n",
       "      <td>1810</td>\n",
       "      <td>QC</td>\n",
       "      <td>Artisan</td>\n",
       "      <td>65.0</td>\n",
       "      <td>Acidulous</td>\n",
       "      <td>Crumbly and soft texture, whitish</td>\n",
       "      <td>0</td>\n",
       "      <td>Fresh Cheese</td>\n",
       "      <td>Cow</td>\n",
       "      <td>Pasteurized</td>\n",
       "      <td>No Rind</td>\n",
       "      <td>Ricotta (l'Ancêtre)</td>\n",
       "      <td>lower fat</td>\n",
       "    </tr>\n",
       "  </tbody>\n",
       "</table>\n",
       "</div>"
      ],
      "text/plain": [
       "     CheeseId ManufacturerProvCode ManufacturingTypeEn  MoisturePercent  \\\n",
       "482      1506                   QC             Artisan             48.0   \n",
       "896      2055                   QC             Artisan             45.0   \n",
       "421      1445                   QC          Industrial             50.0   \n",
       "929      2141                   BC             Artisan             40.0   \n",
       "737      1810                   QC             Artisan             65.0   \n",
       "\n",
       "             FlavourEn                  CharacteristicsEn  Organic  \\\n",
       "482  Sharp, hazelnutty           Pressed, surface-ripened        0   \n",
       "896                NaN                                NaN        0   \n",
       "421               Mild                                NaN        0   \n",
       "929                NaN                                NaN        0   \n",
       "737          Acidulous  Crumbly and soft texture, whitish        0   \n",
       "\n",
       "       CategoryTypeEn MilkTypeEn MilkTreatmentTypeEn   RindTypeEn  \\\n",
       "482  Semi-soft Cheese        Cow         Pasteurized  Washed Rind   \n",
       "896    Veined Cheeses        Cow         Pasteurized          NaN   \n",
       "421       Soft Cheese        Cow         Pasteurized  Bloomy Rind   \n",
       "929  Semi-soft Cheese        Cow         Pasteurized      No Rind   \n",
       "737      Fresh Cheese        Cow         Pasteurized      No Rind   \n",
       "\n",
       "              CheeseName    FatLevel  \n",
       "482     Raclette Griffon   lower fat  \n",
       "896       Rébellion 1837  higher fat  \n",
       "421            Mini-Brie   lower fat  \n",
       "929       Aged Farmhouse  higher fat  \n",
       "737  Ricotta (l'Ancêtre)   lower fat  "
      ]
     },
     "execution_count": 4,
     "metadata": {},
     "output_type": "execute_result"
    }
   ],
   "source": [
    "# Take a look of the train_df and review the information to understand the features and their data types\n",
    "train_df.head()"
   ]
  },
  {
   "cell_type": "markdown",
   "metadata": {},
   "source": [
    "From train_df, there are 13 columns in total (our target is **FatLevel**). Next step, let's take a more close look at these features and target and figure out the following two questions: 1. What are their datatypes, 2. Which feature has null values we need to deal with in this analysis."
   ]
  },
  {
   "cell_type": "code",
   "execution_count": 5,
   "metadata": {},
   "outputs": [
    {
     "data": {
      "text/html": [
       "<div>\n",
       "<style scoped>\n",
       "    .dataframe tbody tr th:only-of-type {\n",
       "        vertical-align: middle;\n",
       "    }\n",
       "\n",
       "    .dataframe tbody tr th {\n",
       "        vertical-align: top;\n",
       "    }\n",
       "\n",
       "    .dataframe thead th {\n",
       "        text-align: right;\n",
       "    }\n",
       "</style>\n",
       "<table border=\"1\" class=\"dataframe\">\n",
       "  <thead>\n",
       "    <tr style=\"text-align: right;\">\n",
       "      <th></th>\n",
       "      <th>CheeseId</th>\n",
       "      <th>ManufacturerProvCode</th>\n",
       "      <th>ManufacturingTypeEn</th>\n",
       "      <th>MoisturePercent</th>\n",
       "      <th>FlavourEn</th>\n",
       "      <th>CharacteristicsEn</th>\n",
       "      <th>Organic</th>\n",
       "      <th>CategoryTypeEn</th>\n",
       "      <th>MilkTypeEn</th>\n",
       "      <th>MilkTreatmentTypeEn</th>\n",
       "      <th>RindTypeEn</th>\n",
       "      <th>CheeseName</th>\n",
       "      <th>FatLevel</th>\n",
       "    </tr>\n",
       "  </thead>\n",
       "  <tbody>\n",
       "    <tr>\n",
       "      <th>count</th>\n",
       "      <td>833.000000</td>\n",
       "      <td>833</td>\n",
       "      <td>833</td>\n",
       "      <td>821.000000</td>\n",
       "      <td>637</td>\n",
       "      <td>522</td>\n",
       "      <td>833.000000</td>\n",
       "      <td>813</td>\n",
       "      <td>832</td>\n",
       "      <td>781</td>\n",
       "      <td>579</td>\n",
       "      <td>833</td>\n",
       "      <td>833</td>\n",
       "    </tr>\n",
       "    <tr>\n",
       "      <th>unique</th>\n",
       "      <td>NaN</td>\n",
       "      <td>10</td>\n",
       "      <td>3</td>\n",
       "      <td>NaN</td>\n",
       "      <td>515</td>\n",
       "      <td>446</td>\n",
       "      <td>NaN</td>\n",
       "      <td>6</td>\n",
       "      <td>8</td>\n",
       "      <td>3</td>\n",
       "      <td>4</td>\n",
       "      <td>830</td>\n",
       "      <td>2</td>\n",
       "    </tr>\n",
       "    <tr>\n",
       "      <th>top</th>\n",
       "      <td>NaN</td>\n",
       "      <td>QC</td>\n",
       "      <td>Industrial</td>\n",
       "      <td>NaN</td>\n",
       "      <td>Mild</td>\n",
       "      <td>Creamy</td>\n",
       "      <td>NaN</td>\n",
       "      <td>Firm Cheese</td>\n",
       "      <td>Cow</td>\n",
       "      <td>Pasteurized</td>\n",
       "      <td>No Rind</td>\n",
       "      <td>Boerenkaas</td>\n",
       "      <td>lower fat</td>\n",
       "    </tr>\n",
       "    <tr>\n",
       "      <th>freq</th>\n",
       "      <td>NaN</td>\n",
       "      <td>635</td>\n",
       "      <td>370</td>\n",
       "      <td>NaN</td>\n",
       "      <td>48</td>\n",
       "      <td>12</td>\n",
       "      <td>NaN</td>\n",
       "      <td>271</td>\n",
       "      <td>596</td>\n",
       "      <td>648</td>\n",
       "      <td>329</td>\n",
       "      <td>2</td>\n",
       "      <td>548</td>\n",
       "    </tr>\n",
       "    <tr>\n",
       "      <th>mean</th>\n",
       "      <td>1563.432173</td>\n",
       "      <td>NaN</td>\n",
       "      <td>NaN</td>\n",
       "      <td>47.052741</td>\n",
       "      <td>NaN</td>\n",
       "      <td>NaN</td>\n",
       "      <td>0.091236</td>\n",
       "      <td>NaN</td>\n",
       "      <td>NaN</td>\n",
       "      <td>NaN</td>\n",
       "      <td>NaN</td>\n",
       "      <td>NaN</td>\n",
       "      <td>NaN</td>\n",
       "    </tr>\n",
       "    <tr>\n",
       "      <th>std</th>\n",
       "      <td>445.350681</td>\n",
       "      <td>NaN</td>\n",
       "      <td>NaN</td>\n",
       "      <td>9.660351</td>\n",
       "      <td>NaN</td>\n",
       "      <td>NaN</td>\n",
       "      <td>0.288118</td>\n",
       "      <td>NaN</td>\n",
       "      <td>NaN</td>\n",
       "      <td>NaN</td>\n",
       "      <td>NaN</td>\n",
       "      <td>NaN</td>\n",
       "      <td>NaN</td>\n",
       "    </tr>\n",
       "    <tr>\n",
       "      <th>min</th>\n",
       "      <td>228.000000</td>\n",
       "      <td>NaN</td>\n",
       "      <td>NaN</td>\n",
       "      <td>12.000000</td>\n",
       "      <td>NaN</td>\n",
       "      <td>NaN</td>\n",
       "      <td>0.000000</td>\n",
       "      <td>NaN</td>\n",
       "      <td>NaN</td>\n",
       "      <td>NaN</td>\n",
       "      <td>NaN</td>\n",
       "      <td>NaN</td>\n",
       "      <td>NaN</td>\n",
       "    </tr>\n",
       "    <tr>\n",
       "      <th>25%</th>\n",
       "      <td>1290.000000</td>\n",
       "      <td>NaN</td>\n",
       "      <td>NaN</td>\n",
       "      <td>40.000000</td>\n",
       "      <td>NaN</td>\n",
       "      <td>NaN</td>\n",
       "      <td>0.000000</td>\n",
       "      <td>NaN</td>\n",
       "      <td>NaN</td>\n",
       "      <td>NaN</td>\n",
       "      <td>NaN</td>\n",
       "      <td>NaN</td>\n",
       "      <td>NaN</td>\n",
       "    </tr>\n",
       "    <tr>\n",
       "      <th>50%</th>\n",
       "      <td>1554.000000</td>\n",
       "      <td>NaN</td>\n",
       "      <td>NaN</td>\n",
       "      <td>46.000000</td>\n",
       "      <td>NaN</td>\n",
       "      <td>NaN</td>\n",
       "      <td>0.000000</td>\n",
       "      <td>NaN</td>\n",
       "      <td>NaN</td>\n",
       "      <td>NaN</td>\n",
       "      <td>NaN</td>\n",
       "      <td>NaN</td>\n",
       "      <td>NaN</td>\n",
       "    </tr>\n",
       "    <tr>\n",
       "      <th>75%</th>\n",
       "      <td>1897.000000</td>\n",
       "      <td>NaN</td>\n",
       "      <td>NaN</td>\n",
       "      <td>52.000000</td>\n",
       "      <td>NaN</td>\n",
       "      <td>NaN</td>\n",
       "      <td>0.000000</td>\n",
       "      <td>NaN</td>\n",
       "      <td>NaN</td>\n",
       "      <td>NaN</td>\n",
       "      <td>NaN</td>\n",
       "      <td>NaN</td>\n",
       "      <td>NaN</td>\n",
       "    </tr>\n",
       "    <tr>\n",
       "      <th>max</th>\n",
       "      <td>2391.000000</td>\n",
       "      <td>NaN</td>\n",
       "      <td>NaN</td>\n",
       "      <td>92.000000</td>\n",
       "      <td>NaN</td>\n",
       "      <td>NaN</td>\n",
       "      <td>1.000000</td>\n",
       "      <td>NaN</td>\n",
       "      <td>NaN</td>\n",
       "      <td>NaN</td>\n",
       "      <td>NaN</td>\n",
       "      <td>NaN</td>\n",
       "      <td>NaN</td>\n",
       "    </tr>\n",
       "  </tbody>\n",
       "</table>\n",
       "</div>"
      ],
      "text/plain": [
       "           CheeseId ManufacturerProvCode ManufacturingTypeEn  MoisturePercent  \\\n",
       "count    833.000000                  833                 833       821.000000   \n",
       "unique          NaN                   10                   3              NaN   \n",
       "top             NaN                   QC          Industrial              NaN   \n",
       "freq            NaN                  635                 370              NaN   \n",
       "mean    1563.432173                  NaN                 NaN        47.052741   \n",
       "std      445.350681                  NaN                 NaN         9.660351   \n",
       "min      228.000000                  NaN                 NaN        12.000000   \n",
       "25%     1290.000000                  NaN                 NaN        40.000000   \n",
       "50%     1554.000000                  NaN                 NaN        46.000000   \n",
       "75%     1897.000000                  NaN                 NaN        52.000000   \n",
       "max     2391.000000                  NaN                 NaN        92.000000   \n",
       "\n",
       "       FlavourEn CharacteristicsEn     Organic CategoryTypeEn MilkTypeEn  \\\n",
       "count        637               522  833.000000            813        832   \n",
       "unique       515               446         NaN              6          8   \n",
       "top         Mild            Creamy         NaN    Firm Cheese        Cow   \n",
       "freq          48                12         NaN            271        596   \n",
       "mean         NaN               NaN    0.091236            NaN        NaN   \n",
       "std          NaN               NaN    0.288118            NaN        NaN   \n",
       "min          NaN               NaN    0.000000            NaN        NaN   \n",
       "25%          NaN               NaN    0.000000            NaN        NaN   \n",
       "50%          NaN               NaN    0.000000            NaN        NaN   \n",
       "75%          NaN               NaN    0.000000            NaN        NaN   \n",
       "max          NaN               NaN    1.000000            NaN        NaN   \n",
       "\n",
       "       MilkTreatmentTypeEn RindTypeEn  CheeseName   FatLevel  \n",
       "count                  781        579         833        833  \n",
       "unique                   3          4         830          2  \n",
       "top            Pasteurized    No Rind  Boerenkaas  lower fat  \n",
       "freq                   648        329           2        548  \n",
       "mean                   NaN        NaN         NaN        NaN  \n",
       "std                    NaN        NaN         NaN        NaN  \n",
       "min                    NaN        NaN         NaN        NaN  \n",
       "25%                    NaN        NaN         NaN        NaN  \n",
       "50%                    NaN        NaN         NaN        NaN  \n",
       "75%                    NaN        NaN         NaN        NaN  \n",
       "max                    NaN        NaN         NaN        NaN  "
      ]
     },
     "execution_count": 5,
     "metadata": {},
     "output_type": "execute_result"
    }
   ],
   "source": [
    "# Use describe to take a look of each columns\n",
    "train_df.describe(include='all')"
   ]
  },
  {
   "cell_type": "markdown",
   "metadata": {},
   "source": [
    "From this table, it can be concluded the data types of each columns as follows:\n",
    "1. Categorical: ManufacturerProvCode, ManufacturingTypeEn, CategoryTypeEn, MilkTypeEn, MilkTreatmentTypeEn, RindTypeEn, FatLevel\n",
    "2. Numerical: CheeseId (int), MoisturePercent (float), Organic (binary categorical)\n",
    "3. Text/String: FlavourEn, CharacteristicsEn, CheeseName"
   ]
  },
  {
   "cell_type": "markdown",
   "metadata": {},
   "source": [
    "In this study, we will be focusing on the categorical and numerical columns.\n",
    "The colunmn **Organic** is classified as the numerical datatype. To be specific, it is actually categorical feature binary.\n",
    "Let's look into the details of all categorical columns. "
   ]
  },
  {
   "cell_type": "code",
   "execution_count": 6,
   "metadata": {},
   "outputs": [
    {
     "data": {
      "text/html": [
       "<div>\n",
       "<style scoped>\n",
       "    .dataframe tbody tr th:only-of-type {\n",
       "        vertical-align: middle;\n",
       "    }\n",
       "\n",
       "    .dataframe tbody tr th {\n",
       "        vertical-align: top;\n",
       "    }\n",
       "\n",
       "    .dataframe thead th {\n",
       "        text-align: right;\n",
       "    }\n",
       "</style>\n",
       "<table border=\"1\" class=\"dataframe\">\n",
       "  <thead>\n",
       "    <tr style=\"text-align: right;\">\n",
       "      <th></th>\n",
       "      <th>0</th>\n",
       "      <th>1</th>\n",
       "      <th>2</th>\n",
       "      <th>3</th>\n",
       "      <th>4</th>\n",
       "      <th>5</th>\n",
       "      <th>6</th>\n",
       "      <th>7</th>\n",
       "      <th>8</th>\n",
       "      <th>9</th>\n",
       "    </tr>\n",
       "  </thead>\n",
       "  <tbody>\n",
       "    <tr>\n",
       "      <th>ManufacturerProvCode</th>\n",
       "      <td>QC</td>\n",
       "      <td>BC</td>\n",
       "      <td>ON</td>\n",
       "      <td>MB</td>\n",
       "      <td>AB</td>\n",
       "      <td>NL</td>\n",
       "      <td>NS</td>\n",
       "      <td>NB</td>\n",
       "      <td>PE</td>\n",
       "      <td>SK</td>\n",
       "    </tr>\n",
       "    <tr>\n",
       "      <th>ManufacturingTypeEn</th>\n",
       "      <td>Artisan</td>\n",
       "      <td>Industrial</td>\n",
       "      <td>Farmstead</td>\n",
       "      <td>None</td>\n",
       "      <td>None</td>\n",
       "      <td>None</td>\n",
       "      <td>None</td>\n",
       "      <td>None</td>\n",
       "      <td>None</td>\n",
       "      <td>None</td>\n",
       "    </tr>\n",
       "    <tr>\n",
       "      <th>CategoryTypeEn</th>\n",
       "      <td>Semi-soft Cheese</td>\n",
       "      <td>Veined Cheeses</td>\n",
       "      <td>Soft Cheese</td>\n",
       "      <td>Fresh Cheese</td>\n",
       "      <td>Firm Cheese</td>\n",
       "      <td>NaN</td>\n",
       "      <td>Hard Cheese</td>\n",
       "      <td>None</td>\n",
       "      <td>None</td>\n",
       "      <td>None</td>\n",
       "    </tr>\n",
       "    <tr>\n",
       "      <th>MilkTypeEn</th>\n",
       "      <td>Cow</td>\n",
       "      <td>Ewe and Goat</td>\n",
       "      <td>Goat</td>\n",
       "      <td>Ewe</td>\n",
       "      <td>Ewe and Cow</td>\n",
       "      <td>Cow and Goat</td>\n",
       "      <td>NaN</td>\n",
       "      <td>Cow, Goat and Ewe</td>\n",
       "      <td>Buffalo Cow</td>\n",
       "      <td>None</td>\n",
       "    </tr>\n",
       "    <tr>\n",
       "      <th>MilkTreatmentTypeEn</th>\n",
       "      <td>Pasteurized</td>\n",
       "      <td>NaN</td>\n",
       "      <td>Raw Milk</td>\n",
       "      <td>Thermised</td>\n",
       "      <td>None</td>\n",
       "      <td>None</td>\n",
       "      <td>None</td>\n",
       "      <td>None</td>\n",
       "      <td>None</td>\n",
       "      <td>None</td>\n",
       "    </tr>\n",
       "    <tr>\n",
       "      <th>RindTypeEn</th>\n",
       "      <td>Washed Rind</td>\n",
       "      <td>NaN</td>\n",
       "      <td>Bloomy Rind</td>\n",
       "      <td>No Rind</td>\n",
       "      <td>Brushed Rind</td>\n",
       "      <td>None</td>\n",
       "      <td>None</td>\n",
       "      <td>None</td>\n",
       "      <td>None</td>\n",
       "      <td>None</td>\n",
       "    </tr>\n",
       "    <tr>\n",
       "      <th>FatLevel</th>\n",
       "      <td>lower fat</td>\n",
       "      <td>higher fat</td>\n",
       "      <td>None</td>\n",
       "      <td>None</td>\n",
       "      <td>None</td>\n",
       "      <td>None</td>\n",
       "      <td>None</td>\n",
       "      <td>None</td>\n",
       "      <td>None</td>\n",
       "      <td>None</td>\n",
       "    </tr>\n",
       "  </tbody>\n",
       "</table>\n",
       "</div>"
      ],
      "text/plain": [
       "                                     0               1            2  \\\n",
       "ManufacturerProvCode                QC              BC           ON   \n",
       "ManufacturingTypeEn            Artisan      Industrial    Farmstead   \n",
       "CategoryTypeEn        Semi-soft Cheese  Veined Cheeses  Soft Cheese   \n",
       "MilkTypeEn                         Cow    Ewe and Goat         Goat   \n",
       "MilkTreatmentTypeEn        Pasteurized             NaN     Raw Milk   \n",
       "RindTypeEn                 Washed Rind             NaN  Bloomy Rind   \n",
       "FatLevel                     lower fat      higher fat         None   \n",
       "\n",
       "                                 3             4             5            6  \\\n",
       "ManufacturerProvCode            MB            AB            NL           NS   \n",
       "ManufacturingTypeEn           None          None          None         None   \n",
       "CategoryTypeEn        Fresh Cheese   Firm Cheese           NaN  Hard Cheese   \n",
       "MilkTypeEn                     Ewe   Ewe and Cow  Cow and Goat          NaN   \n",
       "MilkTreatmentTypeEn      Thermised          None          None         None   \n",
       "RindTypeEn                 No Rind  Brushed Rind          None         None   \n",
       "FatLevel                      None          None          None         None   \n",
       "\n",
       "                                      7            8     9  \n",
       "ManufacturerProvCode                 NB           PE    SK  \n",
       "ManufacturingTypeEn                None         None  None  \n",
       "CategoryTypeEn                     None         None  None  \n",
       "MilkTypeEn            Cow, Goat and Ewe  Buffalo Cow  None  \n",
       "MilkTreatmentTypeEn                None         None  None  \n",
       "RindTypeEn                         None         None  None  \n",
       "FatLevel                           None         None  None  "
      ]
     },
     "execution_count": 6,
     "metadata": {},
     "output_type": "execute_result"
    }
   ],
   "source": [
    "categorical_dict= {'ManufacturerProvCode': train_df['ManufacturerProvCode'].unique().tolist(),\n",
    "                  'ManufacturingTypeEn': train_df['ManufacturingTypeEn'].unique().tolist(),\n",
    "                  'CategoryTypeEn': train_df['CategoryTypeEn'].unique().tolist(),\n",
    "                  'MilkTypeEn': train_df['MilkTypeEn'].unique().tolist(),\n",
    "                  'MilkTreatmentTypeEn': train_df['MilkTreatmentTypeEn'].unique().tolist(),\n",
    "                  'RindTypeEn': train_df['RindTypeEn'].unique().tolist(),\n",
    "                  'FatLevel': train_df['FatLevel'].unique().tolist()}\n",
    "categorical_df = pd.DataFrame.from_dict(categorical_dict, orient='index')\n",
    "categorical_df"
   ]
  },
  {
   "cell_type": "markdown",
   "metadata": {},
   "source": [
    "From the output, we can clearly see what values for each categorical columns. To be specifica, **ManufacturerProvCode** has 10 values including QC, BC, ON, MB, AB, NL, NS, NB, PE, SK; **ManufacturingTypeEN** has 3 values including Artisan, Industrial, Farmstead; **CategoryTypeEn** has 6 values including Semi_soft Cheese, Veined Cheeses, Soft Cheese, Fresh Cheese, Firm Cheese and Hard Cheese. One thing should be noticed here is that this column has null values which we need to deal with later in this analysis; **MilkTypeEn** has 8 values including Cow, Ewe and Goat, Goat, Ewe, Ewe and Cow, Cow and Goat, Cow, Got and Ewe, and Buffalo Cow. This column also include null values; **MilkTreatmentTypeEn** has 3 values including Pasteurized, Raw Milk, and Thermised. It also contains null values; **RindTypeEm** has 4 values containing Washed Rind, Bloomy Rind, No Rind, and Brushed Rind. It also contains null values; For our target column FatLevel, it has 2 values includes lower fat and higher fat."
   ]
  },
  {
   "cell_type": "markdown",
   "metadata": {},
   "source": [
    "Next, let us look into the summary information for the columns with numerical datatypes."
   ]
  },
  {
   "cell_type": "code",
   "execution_count": 7,
   "metadata": {},
   "outputs": [
    {
     "data": {
      "text/html": [
       "<div>\n",
       "<style scoped>\n",
       "    .dataframe tbody tr th:only-of-type {\n",
       "        vertical-align: middle;\n",
       "    }\n",
       "\n",
       "    .dataframe tbody tr th {\n",
       "        vertical-align: top;\n",
       "    }\n",
       "\n",
       "    .dataframe thead th {\n",
       "        text-align: right;\n",
       "    }\n",
       "</style>\n",
       "<table border=\"1\" class=\"dataframe\">\n",
       "  <thead>\n",
       "    <tr style=\"text-align: right;\">\n",
       "      <th></th>\n",
       "      <th>CheeseId</th>\n",
       "      <th>MoisturePercent</th>\n",
       "      <th>Organic</th>\n",
       "    </tr>\n",
       "  </thead>\n",
       "  <tbody>\n",
       "    <tr>\n",
       "      <th>count</th>\n",
       "      <td>833.000000</td>\n",
       "      <td>821.000000</td>\n",
       "      <td>833.000000</td>\n",
       "    </tr>\n",
       "    <tr>\n",
       "      <th>mean</th>\n",
       "      <td>1563.432173</td>\n",
       "      <td>47.052741</td>\n",
       "      <td>0.091236</td>\n",
       "    </tr>\n",
       "    <tr>\n",
       "      <th>std</th>\n",
       "      <td>445.350681</td>\n",
       "      <td>9.660351</td>\n",
       "      <td>0.288118</td>\n",
       "    </tr>\n",
       "    <tr>\n",
       "      <th>min</th>\n",
       "      <td>228.000000</td>\n",
       "      <td>12.000000</td>\n",
       "      <td>0.000000</td>\n",
       "    </tr>\n",
       "    <tr>\n",
       "      <th>25%</th>\n",
       "      <td>1290.000000</td>\n",
       "      <td>40.000000</td>\n",
       "      <td>0.000000</td>\n",
       "    </tr>\n",
       "    <tr>\n",
       "      <th>50%</th>\n",
       "      <td>1554.000000</td>\n",
       "      <td>46.000000</td>\n",
       "      <td>0.000000</td>\n",
       "    </tr>\n",
       "    <tr>\n",
       "      <th>75%</th>\n",
       "      <td>1897.000000</td>\n",
       "      <td>52.000000</td>\n",
       "      <td>0.000000</td>\n",
       "    </tr>\n",
       "    <tr>\n",
       "      <th>max</th>\n",
       "      <td>2391.000000</td>\n",
       "      <td>92.000000</td>\n",
       "      <td>1.000000</td>\n",
       "    </tr>\n",
       "  </tbody>\n",
       "</table>\n",
       "</div>"
      ],
      "text/plain": [
       "          CheeseId  MoisturePercent     Organic\n",
       "count   833.000000       821.000000  833.000000\n",
       "mean   1563.432173        47.052741    0.091236\n",
       "std     445.350681         9.660351    0.288118\n",
       "min     228.000000        12.000000    0.000000\n",
       "25%    1290.000000        40.000000    0.000000\n",
       "50%    1554.000000        46.000000    0.000000\n",
       "75%    1897.000000        52.000000    0.000000\n",
       "max    2391.000000        92.000000    1.000000"
      ]
     },
     "execution_count": 7,
     "metadata": {},
     "output_type": "execute_result"
    }
   ],
   "source": [
    "train_df.describe()"
   ]
  },
  {
   "cell_type": "markdown",
   "metadata": {},
   "source": [
    "**CheeseId** is only used as a identifier in this analysis so it is not a feature we are interested in. **Organic**, as mentioned earlier, is a binary values. Personally, I am very interested in the **MoisturePercent** value which has a mean value of 47.05. Actually, in the food industry, moisture content is important factor related to its shelf life. It actually can be used as a target and the results will be very meaningfull for the food industry to evalute and predict the shelf life. However, we are not going to get into more details in this study. "
   ]
  },
  {
   "cell_type": "code",
   "execution_count": 8,
   "metadata": {},
   "outputs": [
    {
     "name": "stdout",
     "output_type": "stream",
     "text": [
      "<class 'pandas.core.frame.DataFrame'>\n",
      "Int64Index: 833 entries, 482 to 1041\n",
      "Data columns (total 13 columns):\n",
      " #   Column                Non-Null Count  Dtype  \n",
      "---  ------                --------------  -----  \n",
      " 0   CheeseId              833 non-null    int64  \n",
      " 1   ManufacturerProvCode  833 non-null    object \n",
      " 2   ManufacturingTypeEn   833 non-null    object \n",
      " 3   MoisturePercent       821 non-null    float64\n",
      " 4   FlavourEn             637 non-null    object \n",
      " 5   CharacteristicsEn     522 non-null    object \n",
      " 6   Organic               833 non-null    int64  \n",
      " 7   CategoryTypeEn        813 non-null    object \n",
      " 8   MilkTypeEn            832 non-null    object \n",
      " 9   MilkTreatmentTypeEn   781 non-null    object \n",
      " 10  RindTypeEn            579 non-null    object \n",
      " 11  CheeseName            833 non-null    object \n",
      " 12  FatLevel              833 non-null    object \n",
      "dtypes: float64(1), int64(2), object(10)\n",
      "memory usage: 91.1+ KB\n"
     ]
    }
   ],
   "source": [
    "# use info() to get more information from the dataset\n",
    "train_df.info()"
   ]
  },
  {
   "cell_type": "markdown",
   "metadata": {},
   "source": [
    "From the output, it can been seen that there are 833 entries in total, in which **MoisturePercent, FlavourEn, CharacteristicsEn, CategoryTypeEn, MilkTypeEn, MilkTreatmentTypeEn, RindTypeEn** have null values. The results aligns with our previous analysis and these null values need to be imputed later in this study."
   ]
  },
  {
   "cell_type": "markdown",
   "metadata": {},
   "source": [
    "For this study, our target is **FatLevel**. For the features, we will mainly focus on **ManufacturerProvCode, ManufacturingTypeEn, CategoryTypeEn, MilkTypeEn, MilkTreatmentTypeEn, MoisturePercent, Organic**."
   ]
  },
  {
   "cell_type": "markdown",
   "metadata": {},
   "source": [
    "For data visualization, let us take a look at the relationship between **FatLevel** and **CategoryTypeEn** and **MoisturePercent** "
   ]
  },
  {
   "cell_type": "code",
   "execution_count": 9,
   "metadata": {},
   "outputs": [],
   "source": [
    "# import library for data visualization\n",
    "import altair as alt"
   ]
  },
  {
   "cell_type": "code",
   "execution_count": 10,
   "metadata": {},
   "outputs": [
    {
     "data": {
      "text/html": [
       "<div>\n",
       "<style scoped>\n",
       "    .dataframe tbody tr th:only-of-type {\n",
       "        vertical-align: middle;\n",
       "    }\n",
       "\n",
       "    .dataframe tbody tr th {\n",
       "        vertical-align: top;\n",
       "    }\n",
       "\n",
       "    .dataframe thead th {\n",
       "        text-align: right;\n",
       "    }\n",
       "</style>\n",
       "<table border=\"1\" class=\"dataframe\">\n",
       "  <thead>\n",
       "    <tr style=\"text-align: right;\">\n",
       "      <th></th>\n",
       "      <th>CategoryTypeEn</th>\n",
       "      <th>FatLevel</th>\n",
       "      <th>count</th>\n",
       "    </tr>\n",
       "  </thead>\n",
       "  <tbody>\n",
       "    <tr>\n",
       "      <th>0</th>\n",
       "      <td>Firm Cheese</td>\n",
       "      <td>higher fat</td>\n",
       "      <td>154</td>\n",
       "    </tr>\n",
       "    <tr>\n",
       "      <th>1</th>\n",
       "      <td>Firm Cheese</td>\n",
       "      <td>lower fat</td>\n",
       "      <td>117</td>\n",
       "    </tr>\n",
       "    <tr>\n",
       "      <th>2</th>\n",
       "      <td>Fresh Cheese</td>\n",
       "      <td>higher fat</td>\n",
       "      <td>8</td>\n",
       "    </tr>\n",
       "    <tr>\n",
       "      <th>3</th>\n",
       "      <td>Fresh Cheese</td>\n",
       "      <td>lower fat</td>\n",
       "      <td>86</td>\n",
       "    </tr>\n",
       "    <tr>\n",
       "      <th>4</th>\n",
       "      <td>Hard Cheese</td>\n",
       "      <td>higher fat</td>\n",
       "      <td>16</td>\n",
       "    </tr>\n",
       "    <tr>\n",
       "      <th>5</th>\n",
       "      <td>Hard Cheese</td>\n",
       "      <td>lower fat</td>\n",
       "      <td>14</td>\n",
       "    </tr>\n",
       "    <tr>\n",
       "      <th>6</th>\n",
       "      <td>Semi-soft Cheese</td>\n",
       "      <td>higher fat</td>\n",
       "      <td>45</td>\n",
       "    </tr>\n",
       "    <tr>\n",
       "      <th>7</th>\n",
       "      <td>Semi-soft Cheese</td>\n",
       "      <td>lower fat</td>\n",
       "      <td>147</td>\n",
       "    </tr>\n",
       "    <tr>\n",
       "      <th>8</th>\n",
       "      <td>Soft Cheese</td>\n",
       "      <td>higher fat</td>\n",
       "      <td>49</td>\n",
       "    </tr>\n",
       "    <tr>\n",
       "      <th>9</th>\n",
       "      <td>Soft Cheese</td>\n",
       "      <td>lower fat</td>\n",
       "      <td>160</td>\n",
       "    </tr>\n",
       "    <tr>\n",
       "      <th>10</th>\n",
       "      <td>Veined Cheeses</td>\n",
       "      <td>higher fat</td>\n",
       "      <td>7</td>\n",
       "    </tr>\n",
       "    <tr>\n",
       "      <th>11</th>\n",
       "      <td>Veined Cheeses</td>\n",
       "      <td>lower fat</td>\n",
       "      <td>10</td>\n",
       "    </tr>\n",
       "  </tbody>\n",
       "</table>\n",
       "</div>"
      ],
      "text/plain": [
       "      CategoryTypeEn    FatLevel  count\n",
       "0        Firm Cheese  higher fat    154\n",
       "1        Firm Cheese   lower fat    117\n",
       "2       Fresh Cheese  higher fat      8\n",
       "3       Fresh Cheese   lower fat     86\n",
       "4        Hard Cheese  higher fat     16\n",
       "5        Hard Cheese   lower fat     14\n",
       "6   Semi-soft Cheese  higher fat     45\n",
       "7   Semi-soft Cheese   lower fat    147\n",
       "8        Soft Cheese  higher fat     49\n",
       "9        Soft Cheese   lower fat    160\n",
       "10    Veined Cheeses  higher fat      7\n",
       "11    Veined Cheeses   lower fat     10"
      ]
     },
     "execution_count": 10,
     "metadata": {},
     "output_type": "execute_result"
    }
   ],
   "source": [
    "# Get the count for different FatLevel in different CategoryTypeEn\n",
    "CT_FL_df = train_df.loc[:,['CategoryTypeEn', 'FatLevel']]\n",
    "CT_FL_group_df = CT_FL_df.groupby(['CategoryTypeEn', 'FatLevel']).size().reset_index(name='count')\n",
    "CT_FL_group_df"
   ]
  },
  {
   "cell_type": "code",
   "execution_count": 11,
   "metadata": {},
   "outputs": [
    {
     "data": {
      "text/html": [
       "\n",
       "<div id=\"altair-viz-c538ea9ac094420f844e3f69fa0155a1\"></div>\n",
       "<script type=\"text/javascript\">\n",
       "  (function(spec, embedOpt){\n",
       "    let outputDiv = document.currentScript.previousElementSibling;\n",
       "    if (outputDiv.id !== \"altair-viz-c538ea9ac094420f844e3f69fa0155a1\") {\n",
       "      outputDiv = document.getElementById(\"altair-viz-c538ea9ac094420f844e3f69fa0155a1\");\n",
       "    }\n",
       "    const paths = {\n",
       "      \"vega\": \"https://cdn.jsdelivr.net/npm//vega@5?noext\",\n",
       "      \"vega-lib\": \"https://cdn.jsdelivr.net/npm//vega-lib?noext\",\n",
       "      \"vega-lite\": \"https://cdn.jsdelivr.net/npm//vega-lite@4.8.1?noext\",\n",
       "      \"vega-embed\": \"https://cdn.jsdelivr.net/npm//vega-embed@6?noext\",\n",
       "    };\n",
       "\n",
       "    function loadScript(lib) {\n",
       "      return new Promise(function(resolve, reject) {\n",
       "        var s = document.createElement('script');\n",
       "        s.src = paths[lib];\n",
       "        s.async = true;\n",
       "        s.onload = () => resolve(paths[lib]);\n",
       "        s.onerror = () => reject(`Error loading script: ${paths[lib]}`);\n",
       "        document.getElementsByTagName(\"head\")[0].appendChild(s);\n",
       "      });\n",
       "    }\n",
       "\n",
       "    function showError(err) {\n",
       "      outputDiv.innerHTML = `<div class=\"error\" style=\"color:red;\">${err}</div>`;\n",
       "      throw err;\n",
       "    }\n",
       "\n",
       "    function displayChart(vegaEmbed) {\n",
       "      vegaEmbed(outputDiv, spec, embedOpt)\n",
       "        .catch(err => showError(`Javascript Error: ${err.message}<br>This usually means there's a typo in your chart specification. See the javascript console for the full traceback.`));\n",
       "    }\n",
       "\n",
       "    if(typeof define === \"function\" && define.amd) {\n",
       "      requirejs.config({paths});\n",
       "      require([\"vega-embed\"], displayChart, err => showError(`Error loading script: ${err.message}`));\n",
       "    } else if (typeof vegaEmbed === \"function\") {\n",
       "      displayChart(vegaEmbed);\n",
       "    } else {\n",
       "      loadScript(\"vega\")\n",
       "        .then(() => loadScript(\"vega-lite\"))\n",
       "        .then(() => loadScript(\"vega-embed\"))\n",
       "        .catch(showError)\n",
       "        .then(() => displayChart(vegaEmbed));\n",
       "    }\n",
       "  })({\"config\": {\"view\": {\"continuousWidth\": 400, \"continuousHeight\": 300}}, \"data\": {\"name\": \"data-75240522277ae93e8acf7961e6510805\"}, \"mark\": \"bar\", \"encoding\": {\"color\": {\"type\": \"nominal\", \"field\": \"FatLevel\", \"scale\": {\"domain\": [\"lower fat\", \"higher fat\"], \"range\": [\"red\", \"blue\"]}}, \"x\": {\"type\": \"nominal\", \"field\": \"CategoryTypeEn\", \"title\": \"CategoryTypeEn\"}, \"y\": {\"type\": \"quantitative\", \"field\": \"count\", \"title\": \"FatLevel\"}}, \"height\": 300, \"title\": \"CategoryTypeEn VS FatLevel\", \"width\": 500, \"$schema\": \"https://vega.github.io/schema/vega-lite/v4.8.1.json\", \"datasets\": {\"data-75240522277ae93e8acf7961e6510805\": [{\"CategoryTypeEn\": \"Firm Cheese\", \"FatLevel\": \"higher fat\", \"count\": 154}, {\"CategoryTypeEn\": \"Firm Cheese\", \"FatLevel\": \"lower fat\", \"count\": 117}, {\"CategoryTypeEn\": \"Fresh Cheese\", \"FatLevel\": \"higher fat\", \"count\": 8}, {\"CategoryTypeEn\": \"Fresh Cheese\", \"FatLevel\": \"lower fat\", \"count\": 86}, {\"CategoryTypeEn\": \"Hard Cheese\", \"FatLevel\": \"higher fat\", \"count\": 16}, {\"CategoryTypeEn\": \"Hard Cheese\", \"FatLevel\": \"lower fat\", \"count\": 14}, {\"CategoryTypeEn\": \"Semi-soft Cheese\", \"FatLevel\": \"higher fat\", \"count\": 45}, {\"CategoryTypeEn\": \"Semi-soft Cheese\", \"FatLevel\": \"lower fat\", \"count\": 147}, {\"CategoryTypeEn\": \"Soft Cheese\", \"FatLevel\": \"higher fat\", \"count\": 49}, {\"CategoryTypeEn\": \"Soft Cheese\", \"FatLevel\": \"lower fat\", \"count\": 160}, {\"CategoryTypeEn\": \"Veined Cheeses\", \"FatLevel\": \"higher fat\", \"count\": 7}, {\"CategoryTypeEn\": \"Veined Cheeses\", \"FatLevel\": \"lower fat\", \"count\": 10}]}}, {\"mode\": \"vega-lite\"});\n",
       "</script>"
      ],
      "text/plain": [
       "alt.Chart(...)"
      ]
     },
     "execution_count": 11,
     "metadata": {},
     "output_type": "execute_result"
    }
   ],
   "source": [
    "CT_FL_Chart = alt.Chart(CT_FL_group_df, width = 500, height = 300).mark_bar().encode(\n",
    "            alt.X('CategoryTypeEn:N', title = 'CategoryTypeEn'),\n",
    "            alt.Y('count:Q', title = 'FatLevel'),\n",
    "            alt.Color('FatLevel:N', scale = alt.Scale(domain=['lower fat','higher fat'],\n",
    "                                                     range=['red', 'blue']))\n",
    "            ).properties(title = \"CategoryTypeEn VS FatLevel\")\n",
    "CT_FL_Chart"
   ]
  },
  {
   "cell_type": "code",
   "execution_count": 12,
   "metadata": {},
   "outputs": [
    {
     "data": {
      "text/html": [
       "<div>\n",
       "<style scoped>\n",
       "    .dataframe tbody tr th:only-of-type {\n",
       "        vertical-align: middle;\n",
       "    }\n",
       "\n",
       "    .dataframe tbody tr th {\n",
       "        vertical-align: top;\n",
       "    }\n",
       "\n",
       "    .dataframe thead th {\n",
       "        text-align: right;\n",
       "    }\n",
       "</style>\n",
       "<table border=\"1\" class=\"dataframe\">\n",
       "  <thead>\n",
       "    <tr style=\"text-align: right;\">\n",
       "      <th></th>\n",
       "      <th>FatLevel</th>\n",
       "      <th>MoisturePercent</th>\n",
       "    </tr>\n",
       "  </thead>\n",
       "  <tbody>\n",
       "    <tr>\n",
       "      <th>0</th>\n",
       "      <td>higher fat</td>\n",
       "      <td>40.510601</td>\n",
       "    </tr>\n",
       "    <tr>\n",
       "      <th>1</th>\n",
       "      <td>lower fat</td>\n",
       "      <td>50.494052</td>\n",
       "    </tr>\n",
       "  </tbody>\n",
       "</table>\n",
       "</div>"
      ],
      "text/plain": [
       "     FatLevel  MoisturePercent\n",
       "0  higher fat        40.510601\n",
       "1   lower fat        50.494052"
      ]
     },
     "execution_count": 12,
     "metadata": {},
     "output_type": "execute_result"
    }
   ],
   "source": [
    "# Get mean MoisturePercent of different FatLevel\n",
    "F_M_df = train_df.loc[:,['FatLevel', 'MoisturePercent']]\n",
    "F_M_group_df = F_M_df.groupby(['FatLevel']).mean().reset_index()\n",
    "F_M_group_df"
   ]
  },
  {
   "cell_type": "code",
   "execution_count": 13,
   "metadata": {},
   "outputs": [
    {
     "data": {
      "text/html": [
       "\n",
       "<div id=\"altair-viz-1f8991d9fa714ae58f037479d79298c5\"></div>\n",
       "<script type=\"text/javascript\">\n",
       "  (function(spec, embedOpt){\n",
       "    let outputDiv = document.currentScript.previousElementSibling;\n",
       "    if (outputDiv.id !== \"altair-viz-1f8991d9fa714ae58f037479d79298c5\") {\n",
       "      outputDiv = document.getElementById(\"altair-viz-1f8991d9fa714ae58f037479d79298c5\");\n",
       "    }\n",
       "    const paths = {\n",
       "      \"vega\": \"https://cdn.jsdelivr.net/npm//vega@5?noext\",\n",
       "      \"vega-lib\": \"https://cdn.jsdelivr.net/npm//vega-lib?noext\",\n",
       "      \"vega-lite\": \"https://cdn.jsdelivr.net/npm//vega-lite@4.8.1?noext\",\n",
       "      \"vega-embed\": \"https://cdn.jsdelivr.net/npm//vega-embed@6?noext\",\n",
       "    };\n",
       "\n",
       "    function loadScript(lib) {\n",
       "      return new Promise(function(resolve, reject) {\n",
       "        var s = document.createElement('script');\n",
       "        s.src = paths[lib];\n",
       "        s.async = true;\n",
       "        s.onload = () => resolve(paths[lib]);\n",
       "        s.onerror = () => reject(`Error loading script: ${paths[lib]}`);\n",
       "        document.getElementsByTagName(\"head\")[0].appendChild(s);\n",
       "      });\n",
       "    }\n",
       "\n",
       "    function showError(err) {\n",
       "      outputDiv.innerHTML = `<div class=\"error\" style=\"color:red;\">${err}</div>`;\n",
       "      throw err;\n",
       "    }\n",
       "\n",
       "    function displayChart(vegaEmbed) {\n",
       "      vegaEmbed(outputDiv, spec, embedOpt)\n",
       "        .catch(err => showError(`Javascript Error: ${err.message}<br>This usually means there's a typo in your chart specification. See the javascript console for the full traceback.`));\n",
       "    }\n",
       "\n",
       "    if(typeof define === \"function\" && define.amd) {\n",
       "      requirejs.config({paths});\n",
       "      require([\"vega-embed\"], displayChart, err => showError(`Error loading script: ${err.message}`));\n",
       "    } else if (typeof vegaEmbed === \"function\") {\n",
       "      displayChart(vegaEmbed);\n",
       "    } else {\n",
       "      loadScript(\"vega\")\n",
       "        .then(() => loadScript(\"vega-lite\"))\n",
       "        .then(() => loadScript(\"vega-embed\"))\n",
       "        .catch(showError)\n",
       "        .then(() => displayChart(vegaEmbed));\n",
       "    }\n",
       "  })({\"config\": {\"view\": {\"continuousWidth\": 400, \"continuousHeight\": 300}}, \"data\": {\"name\": \"data-4a3a123e6c624fd76bb9488f065e33a2\"}, \"mark\": \"bar\", \"encoding\": {\"x\": {\"type\": \"nominal\", \"field\": \"FatLevel\", \"sort\": \"-y\", \"title\": \"FatLevel\"}, \"y\": {\"type\": \"quantitative\", \"field\": \"MoisturePercent\", \"title\": \"MoisturePercent\"}}, \"height\": 300, \"title\": \"FatLevel VS MoisturePercent\", \"width\": 300, \"$schema\": \"https://vega.github.io/schema/vega-lite/v4.8.1.json\", \"datasets\": {\"data-4a3a123e6c624fd76bb9488f065e33a2\": [{\"FatLevel\": \"higher fat\", \"MoisturePercent\": 40.51060070671378}, {\"FatLevel\": \"lower fat\", \"MoisturePercent\": 50.49405204460966}]}}, {\"mode\": \"vega-lite\"});\n",
       "</script>"
      ],
      "text/plain": [
       "alt.Chart(...)"
      ]
     },
     "execution_count": 13,
     "metadata": {},
     "output_type": "execute_result"
    }
   ],
   "source": [
    "F_M_Chart = alt.Chart(F_M_group_df, width = 300, height = 300).mark_bar().encode(\n",
    "            alt.X('FatLevel:N', sort='-y', title = 'FatLevel'),\n",
    "            alt.Y('MoisturePercent:Q', title = 'MoisturePercent')\n",
    "            ).properties(title = \"FatLevel VS MoisturePercent\")\n",
    "F_M_Chart"
   ]
  },
  {
   "cell_type": "markdown",
   "metadata": {},
   "source": [
    "From these two charts, we can see that **FatLevel** has different **MoisturePercent**, and different **CategoryTypeEn** has different **FatLevel**. I have also plotted histograms of other features (**ManufacturerProvCode, ManufacturingTypeEn, MilkTypeEn, MilkTreatmentTypeEn, Organic**) VS **FatLevel** and all the feature's values are quite different in **FatLevel** (data and histogram not shown here). Therefore, these features are pretty relevant to predict the target."
   ]
  },
  {
   "cell_type": "markdown",
   "metadata": {},
   "source": [
    "Next, let us take a look at if the target is balanced."
   ]
  },
  {
   "cell_type": "code",
   "execution_count": 14,
   "metadata": {},
   "outputs": [
    {
     "data": {
      "text/plain": [
       "lower fat     548\n",
       "higher fat    285\n",
       "Name: FatLevel, dtype: int64"
      ]
     },
     "execution_count": 14,
     "metadata": {},
     "output_type": "execute_result"
    }
   ],
   "source": [
    "train_df['FatLevel'].value_counts()"
   ]
  },
  {
   "cell_type": "markdown",
   "metadata": {},
   "source": [
    "It seems that target has more **lower fat** values than **higher fat** values. Even though it is slightly unbalanced, it is pretty acceptable (not a huge difference like 99:1, which will need to balance out for sure). Therefore, I decide not to deal with this minor imbalance.\n",
    "\n",
    "Another reason why I do not want to balance the data is that, some models will use argument class_weight = 'balanced' in the estimator. I actually have tried it but found out that some estimators such as KNeighborsClassifier are not able to use this arguement, while DecisionTreeClassifier and SVC can (even though the change in the score or some metrics are very minor). To be fair for the model evaluation, I decide to leave this argument out. "
   ]
  },
  {
   "cell_type": "markdown",
   "metadata": {},
   "source": [
    "Since the features and target has been decided, I will simplify the dataset by dropping the unnessory columns. Also, I will split the train_df and test_df into X_train, y_train, X_test, y_test."
   ]
  },
  {
   "cell_type": "code",
   "execution_count": 15,
   "metadata": {},
   "outputs": [],
   "source": [
    "# Drop the columns CheeseId, FlavourEn, CharacteristicsEn, RindTypeEn and CheeseName\n",
    "train_dropped_df = train_df.drop(columns=['CheeseId','FlavourEn','CharacteristicsEn','RindTypeEn','CheeseName'])"
   ]
  },
  {
   "cell_type": "code",
   "execution_count": 16,
   "metadata": {},
   "outputs": [],
   "source": [
    "# Also drop the same features in test_df\n",
    "test_dropped_df = test_df.drop(columns=['CheeseId','FlavourEn','CharacteristicsEn','RindTypeEn','CheeseName'])"
   ]
  },
  {
   "cell_type": "code",
   "execution_count": 17,
   "metadata": {},
   "outputs": [],
   "source": [
    "# Split train_dropped_df and test_dropped_df into X_train, y_train, X_test and y_test\n",
    "X_train = train_dropped_df.drop(columns =['FatLevel'])\n",
    "y_train = train_dropped_df['FatLevel']\n",
    "X_test = test_dropped_df.drop(columns =['FatLevel'])\n",
    "y_test = test_dropped_df['FatLevel']"
   ]
  },
  {
   "cell_type": "markdown",
   "metadata": {},
   "source": [
    "## Methods & Results"
   ]
  },
  {
   "cell_type": "markdown",
   "metadata": {
    "tags": []
   },
   "source": [
    "### 1. Build baseline model"
   ]
  },
  {
   "cell_type": "markdown",
   "metadata": {},
   "source": [
    "Since our datatype of our target **FatLevel** is categorical values, we will use the DummyClassifier to build the baseline model"
   ]
  },
  {
   "cell_type": "code",
   "execution_count": 18,
   "metadata": {},
   "outputs": [],
   "source": [
    "# Import library from sklearn\n",
    "from sklearn.dummy import DummyClassifier"
   ]
  },
  {
   "cell_type": "code",
   "execution_count": 19,
   "metadata": {},
   "outputs": [],
   "source": [
    "dummy_model = DummyClassifier(strategy = 'most_frequent')"
   ]
  },
  {
   "cell_type": "code",
   "execution_count": 20,
   "metadata": {},
   "outputs": [
    {
     "data": {
      "text/plain": [
       "fit_time       0.001543\n",
       "score_time     0.000712\n",
       "test_score     0.657860\n",
       "train_score    0.657863\n",
       "dtype: float64"
      ]
     },
     "execution_count": 20,
     "metadata": {},
     "output_type": "execute_result"
    }
   ],
   "source": [
    "# Cross validate the model and get the mean score\n",
    "from sklearn.model_selection import cross_validate\n",
    "cv_score = pd.DataFrame.from_dict(cross_validate(dummy_model, X_train, y_train, cv = 5, return_train_score = True))\n",
    "cv_score.mean()"
   ]
  },
  {
   "cell_type": "markdown",
   "metadata": {},
   "source": [
    "From the result, we can see that the baseline model give pretty low test_score and train_score. "
   ]
  },
  {
   "cell_type": "markdown",
   "metadata": {},
   "source": [
    "### 2. Feature types and data transformation"
   ]
  },
  {
   "cell_type": "markdown",
   "metadata": {},
   "source": [
    "The feature types and corresponding transformers are listed as follows:\n",
    "\n",
    "*Categorical features*: ManufacturerProvCode, ManufacturingTypeEn, CategoryTypeEn, MilkTypeEn, MilkTreatmentTypeEn (transform with One_HotEncoder(handle_unknown='ignore') and impute with SimpleImputer(strategy='constant', fill_value='missing')) \n",
    "\n",
    "*Numerical features*: MoisturePercent (transform with StandardScaler and impute with SimpleImputer(strategy='median'))\n",
    "\n",
    "*Binary features*: Organic (transform with One_HotEncoder(dtype=int, drop='if_binary'))"
   ]
  },
  {
   "cell_type": "code",
   "execution_count": 21,
   "metadata": {},
   "outputs": [],
   "source": [
    "# Create different features\n",
    "numeric_features = ['MoisturePercent']\n",
    "categorical_features = ['ManufacturerProvCode', 'ManufacturingTypeEn', 'CategoryTypeEn', 'MilkTypeEn', 'MilkTreatmentTypeEn']\n",
    "binary_features = ['Organic']\n",
    "target_column = 'Fatlevel'"
   ]
  },
  {
   "cell_type": "code",
   "execution_count": 22,
   "metadata": {},
   "outputs": [],
   "source": [
    "# Create pipeline for data transformation\n",
    "from sklearn.impute import SimpleImputer\n",
    "from sklearn.pipeline import make_pipeline\n",
    "from sklearn.preprocessing import (OneHotEncoder, StandardScaler)\n",
    "\n",
    "numeric_transformer = make_pipeline(SimpleImputer(strategy='median'), StandardScaler())\n",
    "categorical_transformer = make_pipeline(\n",
    "                                        SimpleImputer(strategy = 'constant', fill_value='missing'),\n",
    "                                        OneHotEncoder(handle_unknown='ignore'))\n",
    "binary_transformer = make_pipeline(OneHotEncoder(drop='if_binary', dtype=int))"
   ]
  },
  {
   "cell_type": "code",
   "execution_count": 23,
   "metadata": {},
   "outputs": [],
   "source": [
    "# Build a column transfomer pipeline\n",
    "from sklearn.compose import ColumnTransformer\n",
    "col_transformer = ColumnTransformer(\n",
    "    transformers=[\n",
    "        ('numeric_features', numeric_transformer, numeric_features),\n",
    "        ('categorical_features', categorical_transformer, categorical_features),\n",
    "        ('binary_features', binary_transformer, binary_features)\n",
    "    ])"
   ]
  },
  {
   "cell_type": "markdown",
   "metadata": {},
   "source": [
    "### 3. Test 2 different estimators using default parameters. "
   ]
  },
  {
   "cell_type": "markdown",
   "metadata": {},
   "source": [
    "We will choose DecisionTreeClassifier, KNeighborsClassifer and SVC as estimators using their default hyperparameters "
   ]
  },
  {
   "cell_type": "code",
   "execution_count": 24,
   "metadata": {},
   "outputs": [],
   "source": [
    "# Import library from sklearn\n",
    "from sklearn.tree import DecisionTreeClassifier\n",
    "from sklearn.neighbors import KNeighborsClassifier\n",
    "from sklearn.svm import SVC"
   ]
  },
  {
   "cell_type": "code",
   "execution_count": 25,
   "metadata": {},
   "outputs": [],
   "source": [
    "# Create main pipeline\n",
    "main_pipe_DT = make_pipeline(col_transformer, DecisionTreeClassifier())\n",
    "main_pipe_KN = make_pipeline(col_transformer, KNeighborsClassifier())\n",
    "main_pipe_SVC = make_pipeline(col_transformer, SVC())"
   ]
  },
  {
   "cell_type": "code",
   "execution_count": 26,
   "metadata": {},
   "outputs": [
    {
     "data": {
      "text/plain": [
       "fit_time       0.021888\n",
       "score_time     0.009386\n",
       "test_score     0.817538\n",
       "train_score    0.950482\n",
       "dtype: float64"
      ]
     },
     "execution_count": 26,
     "metadata": {},
     "output_type": "execute_result"
    }
   ],
   "source": [
    "# Get the cross_valiate score for DecisionTree Classifier \n",
    "DT_scores = pd.DataFrame.from_dict(cross_validate(main_pipe_DT, X_train, y_train, return_train_score=True, cv=5))\n",
    "DT_scores.mean()"
   ]
  },
  {
   "cell_type": "code",
   "execution_count": 27,
   "metadata": {},
   "outputs": [
    {
     "data": {
      "text/plain": [
       "fit_time       0.018377\n",
       "score_time     0.020680\n",
       "test_score     0.801933\n",
       "train_score    0.864647\n",
       "dtype: float64"
      ]
     },
     "execution_count": 27,
     "metadata": {},
     "output_type": "execute_result"
    }
   ],
   "source": [
    "# Get the cross_valiate score for KNeighborsClassifier\n",
    "KN_scores = pd.DataFrame.from_dict(cross_validate(main_pipe_KN, X_train, y_train, return_train_score = True, cv=5))\n",
    "KN_scores.mean()"
   ]
  },
  {
   "cell_type": "code",
   "execution_count": 28,
   "metadata": {},
   "outputs": [
    {
     "data": {
      "text/plain": [
       "fit_time       0.037477\n",
       "score_time     0.012480\n",
       "test_score     0.801890\n",
       "train_score    0.834637\n",
       "dtype: float64"
      ]
     },
     "execution_count": 28,
     "metadata": {},
     "output_type": "execute_result"
    }
   ],
   "source": [
    "# Get the cross_validate score for SVC\n",
    "SVC_scores = pd.DataFrame.from_dict(cross_validate(main_pipe_SVC, X_train, y_train, return_train_score = True, cv=5))\n",
    "SVC_scores.mean()"
   ]
  },
  {
   "cell_type": "markdown",
   "metadata": {},
   "source": [
    "All of these 3 estimator with default hyperparameters has higher test_score and train_score than the baseline model (DummyClassifier, test_score = 0.657860 and train_score = 0.657863). For DecisionTreeClassifier, the train_score (0.950482) is much higher than test_score (0.815150), indicating overfitting. For KNeighborsClassifier and SVC, their test_score and train_score is pretty similar. Therefore, we will move forward with these two estimators for hyperparameters tunning."
   ]
  },
  {
   "cell_type": "markdown",
   "metadata": {},
   "source": [
    "### 4. Hyperparameters optimization and metrics evaluation"
   ]
  },
  {
   "cell_type": "markdown",
   "metadata": {},
   "source": [
    "First, we will tunning the hyperparameter (n-neighbors) for KNeighborsClassifier and hyperparameters(gamma and c) for SVC."
   ]
  },
  {
   "cell_type": "code",
   "execution_count": 29,
   "metadata": {},
   "outputs": [],
   "source": [
    "# Import library for hyperparameters tunning\n",
    "from sklearn.model_selection import GridSearchCV\n",
    "from sklearn.model_selection import RandomizedSearchCV\n",
    "import numpy as np"
   ]
  },
  {
   "cell_type": "code",
   "execution_count": 30,
   "metadata": {},
   "outputs": [
    {
     "name": "stdout",
     "output_type": "stream",
     "text": [
      "Fitting 5 folds for each of 5 candidates, totalling 25 fits\n"
     ]
    },
    {
     "data": {
      "text/plain": [
       "GridSearchCV(cv=5,\n",
       "             estimator=Pipeline(steps=[('columntransformer',\n",
       "                                        ColumnTransformer(transformers=[('numeric_features',\n",
       "                                                                         Pipeline(steps=[('simpleimputer',\n",
       "                                                                                          SimpleImputer(strategy='median')),\n",
       "                                                                                         ('standardscaler',\n",
       "                                                                                          StandardScaler())]),\n",
       "                                                                         ['MoisturePercent']),\n",
       "                                                                        ('categorical_features',\n",
       "                                                                         Pipeline(steps=[('simpleimputer',\n",
       "                                                                                          SimpleImputer(fill_value='missing',\n",
       "                                                                                                        strategy='const...\n",
       "                                                                          'ManufacturingTypeEn',\n",
       "                                                                          'CategoryTypeEn',\n",
       "                                                                          'MilkTypeEn',\n",
       "                                                                          'MilkTreatmentTypeEn']),\n",
       "                                                                        ('binary_features',\n",
       "                                                                         Pipeline(steps=[('onehotencoder',\n",
       "                                                                                          OneHotEncoder(drop='if_binary',\n",
       "                                                                                                        dtype=<class 'int'>))]),\n",
       "                                                                         ['Organic'])])),\n",
       "                                       ('kneighborsclassifier',\n",
       "                                        KNeighborsClassifier())]),\n",
       "             n_jobs=-1,\n",
       "             param_grid={'kneighborsclassifier__n_neighbors': array([ 1, 11, 21, 31, 41])},\n",
       "             return_train_score=True, verbose=1)"
      ]
     },
     "execution_count": 30,
     "metadata": {},
     "output_type": "execute_result"
    }
   ],
   "source": [
    "# For KNeighborsClassifier, we will use GridSearchCV, and optimize the n_neighbors hyperparameters\n",
    "knn_param_grid = {'kneighborsclassifier__n_neighbors': np.arange(1, 50, 10)}\n",
    "knn_search = GridSearchCV(main_pipe_KN, knn_param_grid, cv=5, return_train_score=True, verbose=1, n_jobs=-1)\n",
    "knn_search.fit(X_train, y_train)"
   ]
  },
  {
   "cell_type": "code",
   "execution_count": 31,
   "metadata": {},
   "outputs": [
    {
     "name": "stdout",
     "output_type": "stream",
     "text": [
      "{'kneighborsclassifier__n_neighbors': 11}\n",
      "0.8019406969194144\n"
     ]
    }
   ],
   "source": [
    "# Find out the best parameters and score\n",
    "print(knn_search.best_params_)\n",
    "print(knn_search.best_score_)"
   ]
  },
  {
   "cell_type": "code",
   "execution_count": 32,
   "metadata": {},
   "outputs": [
    {
     "name": "stdout",
     "output_type": "stream",
     "text": [
      "Fitting 5 folds for each of 5 candidates, totalling 25 fits\n",
      "Fitting 5 folds for each of 5 candidates, totalling 25 fits\n",
      "Fitting 5 folds for each of 5 candidates, totalling 25 fits\n",
      "Fitting 5 folds for each of 5 candidates, totalling 25 fits\n",
      "Fitting 5 folds for each of 5 candidates, totalling 25 fits\n"
     ]
    },
    {
     "data": {
      "text/html": [
       "<div>\n",
       "<style scoped>\n",
       "    .dataframe tbody tr th:only-of-type {\n",
       "        vertical-align: middle;\n",
       "    }\n",
       "\n",
       "    .dataframe tbody tr th {\n",
       "        vertical-align: top;\n",
       "    }\n",
       "\n",
       "    .dataframe thead th {\n",
       "        text-align: right;\n",
       "    }\n",
       "</style>\n",
       "<table border=\"1\" class=\"dataframe\">\n",
       "  <thead>\n",
       "    <tr style=\"text-align: right;\">\n",
       "      <th></th>\n",
       "      <th>fit_time</th>\n",
       "      <th>score_time</th>\n",
       "      <th>test_score</th>\n",
       "      <th>train_score</th>\n",
       "    </tr>\n",
       "  </thead>\n",
       "  <tbody>\n",
       "    <tr>\n",
       "      <th>0</th>\n",
       "      <td>1.961175</td>\n",
       "      <td>0.019859</td>\n",
       "      <td>0.808383</td>\n",
       "      <td>0.839339</td>\n",
       "    </tr>\n",
       "    <tr>\n",
       "      <th>1</th>\n",
       "      <td>1.957336</td>\n",
       "      <td>0.018081</td>\n",
       "      <td>0.784431</td>\n",
       "      <td>0.942943</td>\n",
       "    </tr>\n",
       "    <tr>\n",
       "      <th>2</th>\n",
       "      <td>1.955294</td>\n",
       "      <td>0.020094</td>\n",
       "      <td>0.772455</td>\n",
       "      <td>0.863363</td>\n",
       "    </tr>\n",
       "    <tr>\n",
       "      <th>3</th>\n",
       "      <td>1.951630</td>\n",
       "      <td>0.018117</td>\n",
       "      <td>0.843373</td>\n",
       "      <td>0.938531</td>\n",
       "    </tr>\n",
       "    <tr>\n",
       "      <th>4</th>\n",
       "      <td>1.945835</td>\n",
       "      <td>0.018165</td>\n",
       "      <td>0.777108</td>\n",
       "      <td>0.946027</td>\n",
       "    </tr>\n",
       "  </tbody>\n",
       "</table>\n",
       "</div>"
      ],
      "text/plain": [
       "   fit_time  score_time  test_score  train_score\n",
       "0  1.961175    0.019859    0.808383     0.839339\n",
       "1  1.957336    0.018081    0.784431     0.942943\n",
       "2  1.955294    0.020094    0.772455     0.863363\n",
       "3  1.951630    0.018117    0.843373     0.938531\n",
       "4  1.945835    0.018165    0.777108     0.946027"
      ]
     },
     "execution_count": 32,
     "metadata": {},
     "output_type": "execute_result"
    }
   ],
   "source": [
    "# Find out the train_score and test_score on the best KNeighborsClassifier model\n",
    "KN_best_scores = pd.DataFrame.from_dict(cross_validate(knn_search, X_train, y_train, cv=5, return_train_score=5))\n",
    "KN_best_scores"
   ]
  },
  {
   "cell_type": "code",
   "execution_count": 33,
   "metadata": {},
   "outputs": [
    {
     "data": {
      "text/plain": [
       "fit_time       1.954254\n",
       "score_time     0.018863\n",
       "test_score     0.797150\n",
       "train_score    0.906041\n",
       "dtype: float64"
      ]
     },
     "execution_count": 33,
     "metadata": {},
     "output_type": "execute_result"
    }
   ],
   "source": [
    "KN_best_scores.mean()"
   ]
  },
  {
   "cell_type": "code",
   "execution_count": 34,
   "metadata": {},
   "outputs": [
    {
     "name": "stdout",
     "output_type": "stream",
     "text": [
      "Fitting 5 folds for each of 5 candidates, totalling 25 fits\n"
     ]
    },
    {
     "data": {
      "text/plain": [
       "RandomizedSearchCV(cv=5,\n",
       "                   estimator=Pipeline(steps=[('columntransformer',\n",
       "                                              ColumnTransformer(transformers=[('numeric_features',\n",
       "                                                                               Pipeline(steps=[('simpleimputer',\n",
       "                                                                                                SimpleImputer(strategy='median')),\n",
       "                                                                                               ('standardscaler',\n",
       "                                                                                                StandardScaler())]),\n",
       "                                                                               ['MoisturePercent']),\n",
       "                                                                              ('categorical_features',\n",
       "                                                                               Pipeline(steps=[('simpleimputer',\n",
       "                                                                                                SimpleImputer(fill_value='missing',\n",
       "                                                                                                              strategy=...\n",
       "                                                                                'ManufacturingTypeEn',\n",
       "                                                                                'CategoryTypeEn',\n",
       "                                                                                'MilkTypeEn',\n",
       "                                                                                'MilkTreatmentTypeEn']),\n",
       "                                                                              ('binary_features',\n",
       "                                                                               Pipeline(steps=[('onehotencoder',\n",
       "                                                                                                OneHotEncoder(drop='if_binary',\n",
       "                                                                                                              dtype=<class 'int'>))]),\n",
       "                                                                               ['Organic'])])),\n",
       "                                             ('svc', SVC())]),\n",
       "                   n_iter=5, n_jobs=-1,\n",
       "                   param_distributions={'svc__C': [0.01, 0.1, 1, 10, 100],\n",
       "                                        'svc__gamma': [0.01, 0.1, 1, 10, 100]},\n",
       "                   random_state=77, return_train_score=True, verbose=1)"
      ]
     },
     "execution_count": 34,
     "metadata": {},
     "output_type": "execute_result"
    }
   ],
   "source": [
    "# For SVC, we will use RandomizedSearchCV, and optimize the C and gamma hyperparameters\n",
    "svc_param_grid = {'svc__C': [0.01, 0.1, 1, 10, 100], 'svc__gamma': [0.01, 0.1, 1, 10, 100]}\n",
    "svc_search = RandomizedSearchCV(main_pipe_SVC, svc_param_grid, cv=5, return_train_score=True, verbose=1, n_jobs=-1, n_iter=5, random_state=77)\n",
    "svc_search.fit(X_train, y_train)"
   ]
  },
  {
   "cell_type": "code",
   "execution_count": 35,
   "metadata": {},
   "outputs": [
    {
     "name": "stdout",
     "output_type": "stream",
     "text": [
      "{'svc__gamma': 0.1, 'svc__C': 10}\n",
      "0.8007214486689271\n"
     ]
    }
   ],
   "source": [
    "# Find out the best parameters and score\n",
    "print(svc_search.best_params_)\n",
    "print(svc_search.best_score_)"
   ]
  },
  {
   "cell_type": "code",
   "execution_count": 36,
   "metadata": {},
   "outputs": [
    {
     "name": "stdout",
     "output_type": "stream",
     "text": [
      "Fitting 5 folds for each of 5 candidates, totalling 25 fits\n",
      "Fitting 5 folds for each of 5 candidates, totalling 25 fits\n",
      "Fitting 5 folds for each of 5 candidates, totalling 25 fits\n",
      "Fitting 5 folds for each of 5 candidates, totalling 25 fits\n",
      "Fitting 5 folds for each of 5 candidates, totalling 25 fits\n"
     ]
    },
    {
     "data": {
      "text/html": [
       "<div>\n",
       "<style scoped>\n",
       "    .dataframe tbody tr th:only-of-type {\n",
       "        vertical-align: middle;\n",
       "    }\n",
       "\n",
       "    .dataframe tbody tr th {\n",
       "        vertical-align: top;\n",
       "    }\n",
       "\n",
       "    .dataframe thead th {\n",
       "        text-align: right;\n",
       "    }\n",
       "</style>\n",
       "<table border=\"1\" class=\"dataframe\">\n",
       "  <thead>\n",
       "    <tr style=\"text-align: right;\">\n",
       "      <th></th>\n",
       "      <th>fit_time</th>\n",
       "      <th>score_time</th>\n",
       "      <th>test_score</th>\n",
       "      <th>train_score</th>\n",
       "    </tr>\n",
       "  </thead>\n",
       "  <tbody>\n",
       "    <tr>\n",
       "      <th>0</th>\n",
       "      <td>1.606183</td>\n",
       "      <td>0.012024</td>\n",
       "      <td>0.814371</td>\n",
       "      <td>0.863363</td>\n",
       "    </tr>\n",
       "    <tr>\n",
       "      <th>1</th>\n",
       "      <td>1.594465</td>\n",
       "      <td>0.012096</td>\n",
       "      <td>0.784431</td>\n",
       "      <td>0.857357</td>\n",
       "    </tr>\n",
       "    <tr>\n",
       "      <th>2</th>\n",
       "      <td>1.575839</td>\n",
       "      <td>0.011540</td>\n",
       "      <td>0.802395</td>\n",
       "      <td>0.870871</td>\n",
       "    </tr>\n",
       "    <tr>\n",
       "      <th>3</th>\n",
       "      <td>1.592201</td>\n",
       "      <td>0.011732</td>\n",
       "      <td>0.807229</td>\n",
       "      <td>0.862069</td>\n",
       "    </tr>\n",
       "    <tr>\n",
       "      <th>4</th>\n",
       "      <td>1.581000</td>\n",
       "      <td>0.011873</td>\n",
       "      <td>0.795181</td>\n",
       "      <td>0.850075</td>\n",
       "    </tr>\n",
       "  </tbody>\n",
       "</table>\n",
       "</div>"
      ],
      "text/plain": [
       "   fit_time  score_time  test_score  train_score\n",
       "0  1.606183    0.012024    0.814371     0.863363\n",
       "1  1.594465    0.012096    0.784431     0.857357\n",
       "2  1.575839    0.011540    0.802395     0.870871\n",
       "3  1.592201    0.011732    0.807229     0.862069\n",
       "4  1.581000    0.011873    0.795181     0.850075"
      ]
     },
     "execution_count": 36,
     "metadata": {},
     "output_type": "execute_result"
    }
   ],
   "source": [
    "# Find out the train_score and test_score on the best SVC model\n",
    "svc_best_scores = pd.DataFrame.from_dict(cross_validate(svc_search, X_train, y_train, cv=5, return_train_score=5))\n",
    "svc_best_scores"
   ]
  },
  {
   "cell_type": "code",
   "execution_count": 37,
   "metadata": {},
   "outputs": [
    {
     "data": {
      "text/plain": [
       "fit_time       1.589938\n",
       "score_time     0.011853\n",
       "test_score     0.800721\n",
       "train_score    0.860747\n",
       "dtype: float64"
      ]
     },
     "execution_count": 37,
     "metadata": {},
     "output_type": "execute_result"
    }
   ],
   "source": [
    "svc_best_scores.mean()"
   ]
  },
  {
   "cell_type": "markdown",
   "metadata": {},
   "source": [
    "From the results, we can see that for KNeighborsClassifier, the best hyperparameter value (neighborsclassifier__n_neighbors) is 11, which gives the model optimal validation score 0.80194. Its training score is 0.90604 (could be slight concern for overfitting). For the SVC, the best hyperparameter values is svc__gamma: 0.1, svc__C: 10, which gives us a optimal validation score of 0.80072 (similar with KNeighborsClassifier). Its training score is 0.86075. Even though it is slighter lower than KNeighbors, but it is more close to its validation score, which can be a more general model for prediction. Even though these two models have the similar accuracy, but as mentioned before, our target is slightly imbalanced (lower fat: 548, higher fat: 285). Therefore it is  not good enough to only evaluate the model based on the accuracy, we will need other more matrics to assist assess these two models."
   ]
  },
  {
   "cell_type": "markdown",
   "metadata": {},
   "source": [
    "### 5. Evaluation metrics"
   ]
  },
  {
   "cell_type": "markdown",
   "metadata": {},
   "source": [
    "Since we only want to evaluate our model to see which one performs better, we do not want to touch the test data. Therefore, we will split our train data into split_train and split_valid to assess our model."
   ]
  },
  {
   "cell_type": "code",
   "execution_count": 38,
   "metadata": {},
   "outputs": [],
   "source": [
    "# Split the X_train and y_train into X_split_train, y_split_train, X_split_valid, y_split_valid\n",
    "X_split_train, X_split_valid, y_split_train, y_split_valid = train_test_split(X_train, y_train, test_size = 0.2, random_state=123)"
   ]
  },
  {
   "cell_type": "markdown",
   "metadata": {},
   "source": [
    "Next, we will fit each model to train data, and plot confusion matrix for each model and evalute more metrics such as accuracy, precision, racall, f1. "
   ]
  },
  {
   "cell_type": "code",
   "execution_count": 39,
   "metadata": {},
   "outputs": [
    {
     "name": "stdout",
     "output_type": "stream",
     "text": [
      "Fitting 5 folds for each of 5 candidates, totalling 25 fits\n"
     ]
    },
    {
     "data": {
      "text/plain": [
       "<sklearn.metrics._plot.confusion_matrix.ConfusionMatrixDisplay at 0x7f4be3c22730>"
      ]
     },
     "execution_count": 39,
     "metadata": {},
     "output_type": "execute_result"
    },
    {
     "data": {
      "image/png": "[encoded data removed]",
      "text/plain": [
       "<Figure size 432x288 with 2 Axes>"
      ]
     },
     "metadata": {
      "needs_background": "light"
     },
     "output_type": "display_data"
    }
   ],
   "source": [
    "# Import library from sklearn\n",
    "from sklearn.metrics import plot_confusion_matrix\n",
    "knn_search.fit(X_split_train, y_split_train)\n",
    "plot_confusion_matrix(knn_search, X_split_valid, y_split_valid, display_labels =['higher fat','lower fat'], values_format='d', cmap='Blues')"
   ]
  },
  {
   "cell_type": "code",
   "execution_count": 40,
   "metadata": {},
   "outputs": [
    {
     "name": "stdout",
     "output_type": "stream",
     "text": [
      "              precision    recall  f1-score   support\n",
      "\n",
      "  higher fat       0.72      0.75      0.74        52\n",
      "   lower fat       0.88      0.87      0.88       115\n",
      "\n",
      "    accuracy                           0.83       167\n",
      "   macro avg       0.80      0.81      0.81       167\n",
      "weighted avg       0.83      0.83      0.83       167\n",
      "\n"
     ]
    }
   ],
   "source": [
    "# Print out the classification report\n",
    "from sklearn.metrics import classification_report\n",
    "print(classification_report(y_split_valid, knn_search.predict(X_split_valid)))"
   ]
  },
  {
   "cell_type": "markdown",
   "metadata": {},
   "source": [
    "Let us run the same things on the SVC model"
   ]
  },
  {
   "cell_type": "code",
   "execution_count": 41,
   "metadata": {},
   "outputs": [
    {
     "name": "stdout",
     "output_type": "stream",
     "text": [
      "Fitting 5 folds for each of 5 candidates, totalling 25 fits\n"
     ]
    },
    {
     "data": {
      "text/plain": [
       "<sklearn.metrics._plot.confusion_matrix.ConfusionMatrixDisplay at 0x7f4be27ab0a0>"
      ]
     },
     "execution_count": 41,
     "metadata": {},
     "output_type": "execute_result"
    },
    {
     "data": {
      "image/png": "[encoded data removed]",
      "text/plain": [
       "<Figure size 432x288 with 2 Axes>"
      ]
     },
     "metadata": {
      "needs_background": "light"
     },
     "output_type": "display_data"
    }
   ],
   "source": [
    "svc_search.fit(X_split_train, y_split_train)\n",
    "plot_confusion_matrix(svc_search, X_split_valid, y_split_valid, display_labels =['higher fat','lower fat'], values_format='d', cmap='Blues')"
   ]
  },
  {
   "cell_type": "code",
   "execution_count": 42,
   "metadata": {},
   "outputs": [
    {
     "name": "stdout",
     "output_type": "stream",
     "text": [
      "              precision    recall  f1-score   support\n",
      "\n",
      "  higher fat       0.64      0.75      0.69        52\n",
      "   lower fat       0.88      0.81      0.84       115\n",
      "\n",
      "    accuracy                           0.79       167\n",
      "   macro avg       0.76      0.78      0.77       167\n",
      "weighted avg       0.80      0.79      0.79       167\n",
      "\n"
     ]
    }
   ],
   "source": [
    "print(classification_report(y_split_valid, svc_search.predict(X_split_valid)))"
   ]
  },
  {
   "cell_type": "markdown",
   "metadata": {},
   "source": [
    "From the result, we can see that the results for these two models are very close. Our target is **FatLevel**, therefore, either \"higher fat\" and \"lower fat\" can be positive label (some customer prefer high fat for the better flavor, some customer prefer low fat for health). However, no matter which label considered positive label, overall the KNeighborsClassifier has slightly higher precision, recall and f1-score than SVC. In addition KNeighborsClassifier has sligher higher accuracy (0.83) than SVC (0.79). Therefore, we will proceed with KNeighborsClassifier for further processing test data."
   ]
  },
  {
   "cell_type": "markdown",
   "metadata": {},
   "source": [
    "### Applying the best model to test data"
   ]
  },
  {
   "cell_type": "code",
   "execution_count": 43,
   "metadata": {},
   "outputs": [
    {
     "data": {
      "text/plain": [
       "0.8086124401913876"
      ]
     },
     "execution_count": 43,
     "metadata": {},
     "output_type": "execute_result"
    }
   ],
   "source": [
    "# Get the score on the test data\n",
    "knn_search.score(X_test, y_test)"
   ]
  },
  {
   "cell_type": "code",
   "execution_count": 44,
   "metadata": {},
   "outputs": [
    {
     "data": {
      "text/plain": [
       "<sklearn.metrics._plot.confusion_matrix.ConfusionMatrixDisplay at 0x7f4be4146ee0>"
      ]
     },
     "execution_count": 44,
     "metadata": {},
     "output_type": "execute_result"
    },
    {
     "data": {
      "image/png": "[encoded data removed]",
      "text/plain": [
       "<Figure size 432x288 with 2 Axes>"
      ]
     },
     "metadata": {
      "needs_background": "light"
     },
     "output_type": "display_data"
    }
   ],
   "source": [
    "# Plot confusion matrix \n",
    "plot_confusion_matrix(knn_search, X_test, y_test, display_labels =['higher fat','lower fat'], values_format='d', cmap='Blues')"
   ]
  },
  {
   "cell_type": "code",
   "execution_count": 45,
   "metadata": {},
   "outputs": [
    {
     "name": "stdout",
     "output_type": "stream",
     "text": [
      "              precision    recall  f1-score   support\n",
      "\n",
      "  higher fat       0.75      0.67      0.71        73\n",
      "   lower fat       0.83      0.88      0.86       136\n",
      "\n",
      "    accuracy                           0.81       209\n",
      "   macro avg       0.79      0.78      0.78       209\n",
      "weighted avg       0.81      0.81      0.81       209\n",
      "\n"
     ]
    }
   ],
   "source": [
    "# Print classification report\n",
    "print(classification_report(y_test, knn_search.predict(X_test)))"
   ]
  },
  {
   "cell_type": "code",
   "execution_count": 46,
   "metadata": {},
   "outputs": [
    {
     "data": {
      "text/plain": [
       "0.6507177033492823"
      ]
     },
     "execution_count": 46,
     "metadata": {},
     "output_type": "execute_result"
    }
   ],
   "source": [
    "# Get the score of test data on the baseline model DummyClassifier\n",
    "dummy_model.fit(X_train, y_train)\n",
    "dummy_model.score(X_test, y_test)"
   ]
  },
  {
   "cell_type": "code",
   "execution_count": 47,
   "metadata": {},
   "outputs": [
    {
     "data": {
      "text/plain": [
       "<sklearn.metrics._plot.confusion_matrix.ConfusionMatrixDisplay at 0x7f4bda27fdf0>"
      ]
     },
     "execution_count": 47,
     "metadata": {},
     "output_type": "execute_result"
    },
    {
     "data": {
      "image/png": "[encoded data removed]",
      "text/plain": [
       "<Figure size 432x288 with 2 Axes>"
      ]
     },
     "metadata": {
      "needs_background": "light"
     },
     "output_type": "display_data"
    }
   ],
   "source": [
    "# Plot confusion matrix for baseline model\n",
    "plot_confusion_matrix(dummy_model, X_test, y_test, display_labels =['higher fat','lower fat'], values_format='d', cmap='Blues')"
   ]
  },
  {
   "cell_type": "code",
   "execution_count": 48,
   "metadata": {},
   "outputs": [
    {
     "name": "stdout",
     "output_type": "stream",
     "text": [
      "              precision    recall  f1-score   support\n",
      "\n",
      "  higher fat       0.00      0.00      0.00        73\n",
      "   lower fat       0.65      1.00      0.79       136\n",
      "\n",
      "    accuracy                           0.65       209\n",
      "   macro avg       0.33      0.50      0.39       209\n",
      "weighted avg       0.42      0.65      0.51       209\n",
      "\n"
     ]
    },
    {
     "name": "stderr",
     "output_type": "stream",
     "text": [
      "/opt/conda/lib/python3.8/site-packages/sklearn/metrics/_classification.py:1248: UndefinedMetricWarning: Precision and F-score are ill-defined and being set to 0.0 in labels with no predicted samples. Use `zero_division` parameter to control this behavior.\n",
      "  _warn_prf(average, modifier, msg_start, len(result))\n",
      "/opt/conda/lib/python3.8/site-packages/sklearn/metrics/_classification.py:1248: UndefinedMetricWarning: Precision and F-score are ill-defined and being set to 0.0 in labels with no predicted samples. Use `zero_division` parameter to control this behavior.\n",
      "  _warn_prf(average, modifier, msg_start, len(result))\n",
      "/opt/conda/lib/python3.8/site-packages/sklearn/metrics/_classification.py:1248: UndefinedMetricWarning: Precision and F-score are ill-defined and being set to 0.0 in labels with no predicted samples. Use `zero_division` parameter to control this behavior.\n",
      "  _warn_prf(average, modifier, msg_start, len(result))\n"
     ]
    }
   ],
   "source": [
    "# Print classification report for baseline model\n",
    "print(classification_report(y_test, dummy_model.predict(X_test)))"
   ]
  },
  {
   "cell_type": "markdown",
   "metadata": {},
   "source": [
    "## Discussion:\n",
    "\n",
    "Using model knn_search on the test data, we get the accuracy 0.81. If we consider 'high fat' as positive label, the corresponding precision, recall and f1-score is 0.75, 0.67, 0.71, respectivly. If we consider 'low fat' as positive label, the corresponding precision, recall and f1-score is 0.83, 0.88 and 0.86, respectively.\n",
    "\n",
    "Using baseline model on the test data, we get accuracy 0.65. If we consider 'high fat' as positive label, the corresponding precision, recall and f1-score is all 0 (this makes sense because this model use the most frequent label which is lower fat). If we consider 'low fat' as positive label, the corresponding precision, recall and f1-score is 0.65, 1.00 and 0.79, respectively.\n",
    "\n",
    "In conclusion, the knn_search model (neighborsclassifier__n_neighbors = 11) provide better metrics scores (including the accuracy, precision, recall and f1-score) than svc_search model and baseline model. \n",
    "\n",
    "To improve the performance of the model, I would suggest to collect more data (observations) to balance out the target values because the arguement class_weigt are not able to use in this estimator.\n",
    "\n",
    "For other questions, I would be interested in using the **MoisturePercent** as the target (regression question). In food industry, shelf life of food products is actually a topic Food Scientists are interested in, which is significantly affected by the moisture percent. Currently, moisture content is usually tested in the lab to get the actual values. Therefore, it would be very cool and meaningful if we can use other features to predict the moisture percent directly."
   ]
  },
  {
   "cell_type": "markdown",
   "metadata": {},
   "source": [
    "## Reference：\n",
    "https://open.canada.ca/data/en/dataset/3c16cd48-3ac3-453f-8260-6f745181c83b "
   ]
  }
 ],
 "metadata": {
  "kernelspec": {
   "display_name": "Python 3",
   "language": "python",
   "name": "python3"
  },
  "language_info": {
   "codemirror_mode": {
    "name": "ipython",
    "version": 3
   },
   "file_extension": ".py",
   "mimetype": "text/x-python",
   "name": "python",
   "nbconvert_exporter": "python",
   "pygments_lexer": "ipython3",
   "version": "3.8.5"
  }
 },
 "nbformat": 4,
 "nbformat_minor": 4
}
